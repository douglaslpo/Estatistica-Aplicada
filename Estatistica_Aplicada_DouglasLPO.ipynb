{
  "cells": [
    {
      "cell_type": "markdown",
      "metadata": {
        "id": "view-in-github",
        "colab_type": "text"
      },
      "source": [
        "<a href=\"https://colab.research.google.com/github/douglaslpo/Estatistica-Aplicada/blob/main/Estatistica_Aplicada_DouglasLPO.ipynb\" target=\"_parent\"><img src=\"https://colab.research.google.com/assets/colab-badge.svg\" alt=\"Open In Colab\"/></a>"
      ]
    },
    {
      "cell_type": "markdown",
      "source": [
        "# **Estatistica Aplicada**\n",
        "### **O banco de dados traz as respostas de 50 estudantes de ensino médio sobre questões diversas (características, hábitos e gostos pessoais).**\n",
        "\n",
        "### Note que nesses dados há variáveis qualitativas e quantitativas. Minha primeira sugestão é que antes de tudo vocês observem e classifiquem cada variável (coluna) de  acordo com o  seu tipo (qualitativa ou quantitativa e seus subtipos), para pensar quais representações gráficas poderá utilizar para tal variável.\n",
        "\n",
        "### A proposta da atividade é: Realizar pelo menos 5 análises das variáveis dessa tabela,  podendo analisa-las individualmente ou analisar relações entre elas.\n",
        "\n",
        "### Ou seja, você pode olhar apenas para uma única variável de cada vez e resumi-la em um gráfico ou tabela, ou também pode verificar se existe relação entre duas ou mais variáveis e novamente utilizar gráficos e/ou tabelas para explicitar essas relações. Para cada análise, escreva um parágrafo simples sobre suas conclusões. Naturalmente, essa conclusão deve convergir com o gráfico e/ou tabela que você apresentará.\n",
        "\n",
        "\n",
        "### Você pode usar qualquer programa ou linguagem para gerar as tabelas ou plotar os gráficos. Como eu disse na sala, essa é uma boa oportunidade para quem está começando a programar optar por uma linguagem e praticá-la, e eu recomendo fortemente que façam isso.\n",
        "\n",
        "# Qualquer dúvida, podem mandar mensagem aqui ou no meu whats (62)99225-6925.\n",
        "*Por gentileza, repassem essas informações para os alunos especiais matriculados na disciplina, se vocês tiverem contato com eles.\n",
        "Abraços e bom trabalho!*\n",
        "\n",
        "\n"
      ],
      "metadata": {
        "id": "GumQhECZJVND"
      }
    },
    {
      "cell_type": "markdown",
      "source": [
        "# Dicionário das variáveis da Tabela:\n",
        "*   Id:identificação do aluno\n",
        "*   Turma:turma que o aluno foi alocado (A ou B)\n",
        "\n",
        "*   Gênero:F se feminino, M se masculino, NI se preferiu não informar\n",
        "*   Idade:idade em anos\n",
        "*   Alt:altura em metros\n",
        "*   Peso:peso em quilogramas\n",
        "*   Filhos:número de filhos na família\n",
        "*   Fuma:hábito de fumar, sim ou não\n",
        "*   Toler:tolerância ao cigarro:\n",
        " *   (I) indifeente\n",
        " *   (P) incomoda pouco\n",
        " *   (M) incomoda\n",
        "*   (I) Indiferente, (P) incomoda pouco e (M) incomoda muito\n",
        "*   Exerc:horas de atividades física, por semana\n",
        "*   Cine:número de vezes que vai ao cinema por semana\n",
        "*   OpCine: opinião a respeito das salas de cinema na cidade:\n",
        " *  (R) regular e boa\n",
        " *  (M) muito boa\n",
        "*   TV:horas gastas assistindo TV, por semana\n",
        "*   OpTV:opinião a respeito da qualidade da\n",
        "*   programação na TV:\n",
        " * (R) ruim\n",
        " * (M) média\n",
        " * (B) boa\n",
        " * (N) não sabe"
      ],
      "metadata": {
        "id": "g-waSvhrL6Nb"
      }
    },
    {
      "cell_type": "code",
      "source": [
        "# Inicio Instalar as bibliotecas que iremos utilizar!\n",
        "!pip install pandas"
      ],
      "metadata": {
        "colab": {
          "base_uri": "https://localhost:8080/"
        },
        "id": "p3V-KfRM7LhY",
        "outputId": "b4dc0fca-2879-499a-fea3-9cfa1a4b4dde"
      },
      "execution_count": null,
      "outputs": [
        {
          "output_type": "stream",
          "name": "stdout",
          "text": [
            "Requirement already satisfied: pandas in /usr/local/lib/python3.10/dist-packages (1.5.3)\n",
            "Requirement already satisfied: python-dateutil>=2.8.1 in /usr/local/lib/python3.10/dist-packages (from pandas) (2.8.2)\n",
            "Requirement already satisfied: pytz>=2020.1 in /usr/local/lib/python3.10/dist-packages (from pandas) (2023.3.post1)\n",
            "Requirement already satisfied: numpy>=1.21.0 in /usr/local/lib/python3.10/dist-packages (from pandas) (1.23.5)\n",
            "Requirement already satisfied: six>=1.5 in /usr/local/lib/python3.10/dist-packages (from python-dateutil>=2.8.1->pandas) (1.16.0)\n"
          ]
        }
      ]
    },
    {
      "cell_type": "code",
      "source": [
        "# Passo 1: Importar as bibliotecas\n",
        "import csv\n",
        "import numpy as np\n",
        "import pandas as pd\n",
        "import matplotlib.pyplot as plt"
      ],
      "metadata": {
        "id": "F-UPlB_1LlXv"
      },
      "execution_count": null,
      "outputs": []
    },
    {
      "cell_type": "code",
      "source": [
        "# Defina o nome do arquivo CSV de entrada\n",
        "arquivo_csv = 'tabela1.csv'\n",
        "\n",
        "# Inicialize uma lista vazia para armazenar os dados\n",
        "dados = []\n",
        "\n",
        "# Abra o arquivo CSV e leia os dados\n",
        "with open(arquivo_csv, newline='') as csvfile:\n",
        "    leitor = csv.reader(csvfile)\n",
        "\n",
        "    # Itere pelas linhas do CSV e adicione-as à lista de dados\n",
        "    for linha in leitor:\n",
        "        dados.append(linha)\n",
        "\n",
        "# Agora, a variável 'dados' contém os dados do CSV como uma lista de listas,\n",
        "# onde cada lista interna representa uma linha do CSV e os elementos são os valores.\n",
        "# Você pode acessar os dados conforme necessário.\n",
        "\n",
        "# Exemplo: Imprimindo os dados\n",
        "for linha in dados:\n",
        "    print(linha)"
      ],
      "metadata": {
        "colab": {
          "base_uri": "https://localhost:8080/"
        },
        "id": "tOF8fSEkPut8",
        "outputId": "2090bd4a-f391-490d-e37e-850d9ce37440"
      },
      "execution_count": null,
      "outputs": [
        {
          "output_type": "stream",
          "name": "stdout",
          "text": [
            "['Id;Turma;Sexo;Idade;Alt;Peso;Filhos;Fuma;Toler;Exerc;Cine;OpCine;TV;OpTV']\n",
            "['1;A;F;17;1.60;60.5;2;NAO;P;0;1;B;16;R']\n",
            "['2;A;F;18;1.69;55.0;1;NAO;M;0;1;B;7;R']\n",
            "['3;A;M;18;1.85;72.8;2;NAO;P;5;2;M;15;R']\n",
            "['4;A;M;25;1.85;80.9;2;NAO;P;5;2;B;20;R']\n",
            "['5;A;F;19;1.58;55.0;1;NAO;M;2;2;B;5;R']\n",
            "['6;A;M;19;1.76;60.0;3;NAO;M;2;1;B;2;R']\n",
            "['7;A;F;20;1.60;58.0;1;NAO;P;3;1;B;7;R']\n",
            "['8;A;F;18;1.64;47.0;1;SIM;I;2;2;M;10;R']\n",
            "['9;A;F;18;1.62;57.8;3;NAO;M;3;3;M;12;R']\n",
            "['10;A;F;17;1.64;58.0;2;NAO;M;2;2;M;10;R']\n",
            "['11;A;F;18;1.72;70.0;1;SIM;I;10;2;B;8;N']\n",
            "['12;A;F;18;1.66;54.0;3;NAO;M;0;2;B;0;R']\n",
            "['13;A;F;21;1.70;58.0;2;NAO;M;6;1;M;30;R']\n",
            "['14;A;M;19;1.78;68.5;1;SIM;I;5;1;M;2;N']\n",
            "['15;A;F;18;1.65;63.5;1;NAO;I;4;1;B;10;R']\n",
            "['16;A;F;19;1.63;47.4;3;NAO;P;0;1;B;18;R']\n",
            "['17;A;F;17;1.82;66.0;1;NAO;P;3;1;B;10;N']\n",
            "['18;A;M;18;1.80;85.2;2;NAO;P;3;4;B;10;R']\n",
            "['19;A;NI;20;1.60;54.5;1;NAO;P;3;2;B;5;R']\n",
            "['20;A;F;18;1.68;52.5;3;NAO;M;7;2;B;14;M']\n",
            "['21;A;F;21;1.70;60.0;2;NAO;P;8;2;B;5;R']\n",
            "['22;A;F;18;1.65;58.5;1;NAO;M;0;3;B;5;R']\n",
            "['23;A;F;18;1.57;49.2;1;SIM;I;5;4;B;10;R']\n",
            "['24;A;F;20;1.55;48.0;1;SIM;I;0;1;M;28;R']\n",
            "['25;A;F;20;1.69;51.6;2;NAO;P;8;5;M;4;N']\n",
            "['26;A;F;19;1.54;57.0;2;NAO;I;6;2;B;5;R']\n",
            "['27;B;F;23;1.62;63.0;2;NAO;M;8;2;M;5;R']\n",
            "['28;B;F;18;1.62;52.0;1;NAO;P;1;1;M;10;R']\n",
            "['29;B;F;18;1.57;49.0;2;NAO;P;3;1;B;12;R']\n",
            "['30;B;F;25;1.65;59.0;4;NAO;M;1;2;M;2;R']\n",
            "['31;B;F;18;1.61;52.0;1;NAO;P;2;2;M;6;N']\n",
            "['32;B;M;17;1.71;73.0;1;NAO;P;1;1;B;20;R']\n",
            "['33;B;F;17;1.65;56.0;3;NAO;M;2;1;B;14;R']\n",
            "['34;B;F;17;1.67;58.0;1;NAO;M;4;2;B;10;R']\n",
            "['35;B;M;18;1.73;87.0;1;NAO;M;7;1;B;25;B']\n",
            "['36;B;F;18;1.60;47.0;1;NAO;P;5;1;M;14;R']\n",
            "['37;B;M;17;1.70;95.0;1;NAO;P;10;2;M;12;N']\n",
            "['38;B;M;21;1.85;84.0;1;SIM;I;6;4;B;10;R']\n",
            "['39;B;F;18;1.70;60.0;1;NAO;P;5;2;B;12;R']\n",
            "['40;B;NI;18;1.73;73.0;1;NAO;M;4;1;B;2;R']\n",
            "['41;B;F;17;1.70;55.0;1;NAO;I;5;4;B;10;B']\n",
            "['42;B;F;23;1.45;44.0;2;NAO;M;2;2;B;25;R']\n",
            "['43;B;M;24;1.76;75.0;2;NAO;I;7;0;M;14;N']\n",
            "['44;B;F;18;1.68;55.0;1;NAO;P;5;1;B;8;R']\n",
            "['45;B;F;18;1.55;49.0;1;NAO;M;0;1;M;10;R']\n",
            "['46;B;F;19;1.70;50.0;7;NAO;M;0;1;B;8;R']\n",
            "['47;B;F;19;1.55;54.5;2;NAO;M;4;3;B;3;R']\n",
            "['48;B;F;18;1.60;50.0;1;NAO;P;2;1;B;5;R']\n",
            "['49;B;M;17;1.80;71.0;1;NAO;P;7;0;M;14;R']\n",
            "['50;B;M;18;1.83;86.0;1;NAO;P;7;0;M;20;B']\n"
          ]
        }
      ]
    },
    {
      "cell_type": "code",
      "source": [
        "# Use o pandas para ler o CSV e criar um DataFrame\n",
        "dataframe = pd.read_csv(arquivo_csv)\n",
        "\n",
        "# Renomeie as colunas com os nomes do dicionário\n",
        "colunas = {\n",
        "    'Id': 'identificacao_aluno',\n",
        "    'Turma': 'turma_alocada',\n",
        "    'Gênero': 'genero',\n",
        "    'Idade': 'idade',\n",
        "    'Alt': 'altura',\n",
        "    'Peso': 'peso',\n",
        "    'Filhos': 'numero_filhos',\n",
        "    'Fuma': 'fuma',\n",
        "    'Toler': 'tolerancia_cigarro',\n",
        "    'Exerc': 'horas_atividade_fisica',\n",
        "    'Cine': 'numero_visitas_cinema_semana',\n",
        "    'OpCine': 'opiniao_cinema',\n",
        "    'TV': 'horas_assistindo_TV_semana',\n",
        "    'OpTV': 'opiniao_programacao_TV'\n",
        "}\n",
        "\n",
        "dataframe.rename(columns=colunas, inplace=True)\n",
        "\n",
        "# Substitua os valores de acordo com o dicionário\n",
        "dicionario_valores = {\n",
        "    'Gênero': {'F': 'Feminino', 'M': 'Masculino', 'NI': 'Preferiu Não Informar'},\n",
        "    'Fuma': {'sim': 'Sim', 'não': 'Não'},\n",
        "    'Toler': {'I': 'Indiferente', 'P': 'Incomoda Pouco', 'M': 'Incomoda Muito'},\n",
        "    'OpCine': {'B': 'Regular e Boa', 'M': 'Muito Boa'},\n",
        "    'OpTV': {'R': 'Ruim', 'M': 'Média', 'B': 'Boa', 'N': 'Não Sabe'}\n",
        "}\n",
        "\n",
        "dataframe.replace(dicionario_valores, inplace=True)\n",
        "\n",
        "# Agora, o DataFrame contém os dados tratados conforme o dicionário.\n",
        "\n",
        "# Exemplo: Visualize as primeiras linhas do DataFrame\n",
        "print(dataframe.head())"
      ],
      "metadata": {
        "colab": {
          "base_uri": "https://localhost:8080/"
        },
        "id": "AYR1WjM6a0jS",
        "outputId": "a2683f02-3d40-4c0b-bcdf-8c6f8835a0a4"
      },
      "execution_count": null,
      "outputs": [
        {
          "output_type": "stream",
          "name": "stdout",
          "text": [
            "  Id;Turma;Sexo;Idade;Alt;Peso;Filhos;Fuma;Toler;Exerc;Cine;OpCine;TV;OpTV\n",
            "0              1;A;F;17;1.60;60.5;2;NAO;P;0;1;B;16;R                      \n",
            "1               2;A;F;18;1.69;55.0;1;NAO;M;0;1;B;7;R                      \n",
            "2              3;A;M;18;1.85;72.8;2;NAO;P;5;2;M;15;R                      \n",
            "3              4;A;M;25;1.85;80.9;2;NAO;P;5;2;B;20;R                      \n",
            "4               5;A;F;19;1.58;55.0;1;NAO;M;2;2;B;5;R                      \n"
          ]
        }
      ]
    },
    {
      "cell_type": "code",
      "source": [
        "import matplotlib.pyplot as plt\n",
        "\n",
        "# Contagem de gênero\n",
        "contagem_genero = dataframe['genero'].value_counts()\n",
        "\n",
        "# Crie um gráfico de barras\n",
        "contagem_genero.plot(kind='bar', color='skyblue')\n",
        "plt.title('Distribuição de Gênero')\n",
        "plt.xlabel('Gênero')\n",
        "plt.ylabel('Quantidade')\n",
        "plt.xticks(rotation=0)\n",
        "plt.show()"
      ],
      "metadata": {
        "colab": {
          "base_uri": "https://localhost:8080/",
          "height": 512
        },
        "id": "Mn391MoFbvOV",
        "outputId": "2c91652c-aa10-4b36-c69d-b3a075be4601"
      },
      "execution_count": null,
      "outputs": [
        {
          "output_type": "error",
          "ename": "KeyError",
          "evalue": "ignored",
          "traceback": [
            "\u001b[0;31m---------------------------------------------------------------------------\u001b[0m",
            "\u001b[0;31mKeyError\u001b[0m                                  Traceback (most recent call last)",
            "\u001b[0;32m/usr/local/lib/python3.10/dist-packages/pandas/core/indexes/base.py\u001b[0m in \u001b[0;36mget_loc\u001b[0;34m(self, key, method, tolerance)\u001b[0m\n\u001b[1;32m   3801\u001b[0m             \u001b[0;32mtry\u001b[0m\u001b[0;34m:\u001b[0m\u001b[0;34m\u001b[0m\u001b[0;34m\u001b[0m\u001b[0m\n\u001b[0;32m-> 3802\u001b[0;31m                 \u001b[0;32mreturn\u001b[0m \u001b[0mself\u001b[0m\u001b[0;34m.\u001b[0m\u001b[0m_engine\u001b[0m\u001b[0;34m.\u001b[0m\u001b[0mget_loc\u001b[0m\u001b[0;34m(\u001b[0m\u001b[0mcasted_key\u001b[0m\u001b[0;34m)\u001b[0m\u001b[0;34m\u001b[0m\u001b[0;34m\u001b[0m\u001b[0m\n\u001b[0m\u001b[1;32m   3803\u001b[0m             \u001b[0;32mexcept\u001b[0m \u001b[0mKeyError\u001b[0m \u001b[0;32mas\u001b[0m \u001b[0merr\u001b[0m\u001b[0;34m:\u001b[0m\u001b[0;34m\u001b[0m\u001b[0;34m\u001b[0m\u001b[0m\n",
            "\u001b[0;32m/usr/local/lib/python3.10/dist-packages/pandas/_libs/index.pyx\u001b[0m in \u001b[0;36mpandas._libs.index.IndexEngine.get_loc\u001b[0;34m()\u001b[0m\n",
            "\u001b[0;32m/usr/local/lib/python3.10/dist-packages/pandas/_libs/index.pyx\u001b[0m in \u001b[0;36mpandas._libs.index.IndexEngine.get_loc\u001b[0;34m()\u001b[0m\n",
            "\u001b[0;32mpandas/_libs/hashtable_class_helper.pxi\u001b[0m in \u001b[0;36mpandas._libs.hashtable.PyObjectHashTable.get_item\u001b[0;34m()\u001b[0m\n",
            "\u001b[0;32mpandas/_libs/hashtable_class_helper.pxi\u001b[0m in \u001b[0;36mpandas._libs.hashtable.PyObjectHashTable.get_item\u001b[0;34m()\u001b[0m\n",
            "\u001b[0;31mKeyError\u001b[0m: 'Sexo'",
            "\nThe above exception was the direct cause of the following exception:\n",
            "\u001b[0;31mKeyError\u001b[0m                                  Traceback (most recent call last)",
            "\u001b[0;32m<ipython-input-51-16fbe3110c9d>\u001b[0m in \u001b[0;36m<cell line: 4>\u001b[0;34m()\u001b[0m\n\u001b[1;32m      2\u001b[0m \u001b[0;34m\u001b[0m\u001b[0m\n\u001b[1;32m      3\u001b[0m \u001b[0;31m# Contagem de gênero\u001b[0m\u001b[0;34m\u001b[0m\u001b[0;34m\u001b[0m\u001b[0m\n\u001b[0;32m----> 4\u001b[0;31m \u001b[0mcontagem_genero\u001b[0m \u001b[0;34m=\u001b[0m \u001b[0mdataframe\u001b[0m\u001b[0;34m[\u001b[0m\u001b[0;34m'Sexo'\u001b[0m\u001b[0;34m]\u001b[0m\u001b[0;34m.\u001b[0m\u001b[0mvalue_counts\u001b[0m\u001b[0;34m(\u001b[0m\u001b[0;34m)\u001b[0m\u001b[0;34m\u001b[0m\u001b[0;34m\u001b[0m\u001b[0m\n\u001b[0m\u001b[1;32m      5\u001b[0m \u001b[0;34m\u001b[0m\u001b[0m\n\u001b[1;32m      6\u001b[0m \u001b[0;31m# Crie um gráfico de barras\u001b[0m\u001b[0;34m\u001b[0m\u001b[0;34m\u001b[0m\u001b[0m\n",
            "\u001b[0;32m/usr/local/lib/python3.10/dist-packages/pandas/core/frame.py\u001b[0m in \u001b[0;36m__getitem__\u001b[0;34m(self, key)\u001b[0m\n\u001b[1;32m   3805\u001b[0m             \u001b[0;32mif\u001b[0m \u001b[0mself\u001b[0m\u001b[0;34m.\u001b[0m\u001b[0mcolumns\u001b[0m\u001b[0;34m.\u001b[0m\u001b[0mnlevels\u001b[0m \u001b[0;34m>\u001b[0m \u001b[0;36m1\u001b[0m\u001b[0;34m:\u001b[0m\u001b[0;34m\u001b[0m\u001b[0;34m\u001b[0m\u001b[0m\n\u001b[1;32m   3806\u001b[0m                 \u001b[0;32mreturn\u001b[0m \u001b[0mself\u001b[0m\u001b[0;34m.\u001b[0m\u001b[0m_getitem_multilevel\u001b[0m\u001b[0;34m(\u001b[0m\u001b[0mkey\u001b[0m\u001b[0;34m)\u001b[0m\u001b[0;34m\u001b[0m\u001b[0;34m\u001b[0m\u001b[0m\n\u001b[0;32m-> 3807\u001b[0;31m             \u001b[0mindexer\u001b[0m \u001b[0;34m=\u001b[0m \u001b[0mself\u001b[0m\u001b[0;34m.\u001b[0m\u001b[0mcolumns\u001b[0m\u001b[0;34m.\u001b[0m\u001b[0mget_loc\u001b[0m\u001b[0;34m(\u001b[0m\u001b[0mkey\u001b[0m\u001b[0;34m)\u001b[0m\u001b[0;34m\u001b[0m\u001b[0;34m\u001b[0m\u001b[0m\n\u001b[0m\u001b[1;32m   3808\u001b[0m             \u001b[0;32mif\u001b[0m \u001b[0mis_integer\u001b[0m\u001b[0;34m(\u001b[0m\u001b[0mindexer\u001b[0m\u001b[0;34m)\u001b[0m\u001b[0;34m:\u001b[0m\u001b[0;34m\u001b[0m\u001b[0;34m\u001b[0m\u001b[0m\n\u001b[1;32m   3809\u001b[0m                 \u001b[0mindexer\u001b[0m \u001b[0;34m=\u001b[0m \u001b[0;34m[\u001b[0m\u001b[0mindexer\u001b[0m\u001b[0;34m]\u001b[0m\u001b[0;34m\u001b[0m\u001b[0;34m\u001b[0m\u001b[0m\n",
            "\u001b[0;32m/usr/local/lib/python3.10/dist-packages/pandas/core/indexes/base.py\u001b[0m in \u001b[0;36mget_loc\u001b[0;34m(self, key, method, tolerance)\u001b[0m\n\u001b[1;32m   3802\u001b[0m                 \u001b[0;32mreturn\u001b[0m \u001b[0mself\u001b[0m\u001b[0;34m.\u001b[0m\u001b[0m_engine\u001b[0m\u001b[0;34m.\u001b[0m\u001b[0mget_loc\u001b[0m\u001b[0;34m(\u001b[0m\u001b[0mcasted_key\u001b[0m\u001b[0;34m)\u001b[0m\u001b[0;34m\u001b[0m\u001b[0;34m\u001b[0m\u001b[0m\n\u001b[1;32m   3803\u001b[0m             \u001b[0;32mexcept\u001b[0m \u001b[0mKeyError\u001b[0m \u001b[0;32mas\u001b[0m \u001b[0merr\u001b[0m\u001b[0;34m:\u001b[0m\u001b[0;34m\u001b[0m\u001b[0;34m\u001b[0m\u001b[0m\n\u001b[0;32m-> 3804\u001b[0;31m                 \u001b[0;32mraise\u001b[0m \u001b[0mKeyError\u001b[0m\u001b[0;34m(\u001b[0m\u001b[0mkey\u001b[0m\u001b[0;34m)\u001b[0m \u001b[0;32mfrom\u001b[0m \u001b[0merr\u001b[0m\u001b[0;34m\u001b[0m\u001b[0;34m\u001b[0m\u001b[0m\n\u001b[0m\u001b[1;32m   3805\u001b[0m             \u001b[0;32mexcept\u001b[0m \u001b[0mTypeError\u001b[0m\u001b[0;34m:\u001b[0m\u001b[0;34m\u001b[0m\u001b[0;34m\u001b[0m\u001b[0m\n\u001b[1;32m   3806\u001b[0m                 \u001b[0;31m# If we have a listlike key, _check_indexing_error will raise\u001b[0m\u001b[0;34m\u001b[0m\u001b[0;34m\u001b[0m\u001b[0m\n",
            "\u001b[0;31mKeyError\u001b[0m: 'Sexo'"
          ]
        }
      ]
    },
    {
      "cell_type": "code",
      "source": [
        "# Passo 2: Carregar o arquivo CSV em um DataFrame\n",
        "df = pd.read_csv('tabela1.csv', sep=';')"
      ],
      "metadata": {
        "id": "-jwP3h1EAnq2"
      },
      "execution_count": null,
      "outputs": []
    },
    {
      "cell_type": "code",
      "source": [
        "# # Verifique as colunas no DataFrame\n",
        "print(df.columns)"
      ],
      "metadata": {
        "colab": {
          "base_uri": "https://localhost:8080/"
        },
        "id": "ZtBwrNstILxT",
        "outputId": "5693d00a-5bd0-4c92-a99a-897c379b2f91"
      },
      "execution_count": null,
      "outputs": [
        {
          "output_type": "stream",
          "name": "stdout",
          "text": [
            "Index(['Id', 'Turma', 'Sexo', 'Idade', 'Alt', 'Peso', 'Filhos', 'Fuma',\n",
            "       'Toler', 'Exerc', 'Cine', 'OpCine', 'TV', 'OpTV'],\n",
            "      dtype='object')\n"
          ]
        }
      ]
    },
    {
      "cell_type": "code",
      "source": [
        "# Análise 2: Contagem de valores únicos em cada coluna\n",
        "contagem_valores_unicos = df.nunique()\n",
        "print(\"\\nAnálise 2: Contagem de Valores Únicos\")\n",
        "print(contagem_valores_unicos)"
      ],
      "metadata": {
        "id": "xbtbTMRkBODS",
        "colab": {
          "base_uri": "https://localhost:8080/"
        },
        "outputId": "79e3212b-6aa9-43a1-e54f-4cf9eb89ee28"
      },
      "execution_count": null,
      "outputs": [
        {
          "output_type": "stream",
          "name": "stdout",
          "text": [
            "\n",
            "Análise 2: Contagem de Valores Únicos\n",
            "Id        50\n",
            "Turma      2\n",
            "Sexo       3\n",
            "Idade      8\n",
            "Alt       25\n",
            "Peso      36\n",
            "Filhos     5\n",
            "Fuma       2\n",
            "Toler      3\n",
            "Exerc     10\n",
            "Cine       6\n",
            "OpCine     2\n",
            "TV        18\n",
            "OpTV       4\n",
            "dtype: int64\n"
          ]
        }
      ]
    },
    {
      "cell_type": "code",
      "source": [
        "# Análise 3: Média de idade por sexo\n",
        "media_idade_sexo = df.groupby('Sexo')['Idade'].mean()\n",
        "print(\"\\n Análise 3: Média de Idade por Sexo\")\n",
        "print(media_idade_sexo)"
      ],
      "metadata": {
        "id": "SPTbHHn5BWzW",
        "colab": {
          "base_uri": "https://localhost:8080/"
        },
        "outputId": "7d64bb21-61ad-443f-8e7b-79bf6dc30391"
      },
      "execution_count": null,
      "outputs": [
        {
          "output_type": "stream",
          "name": "stdout",
          "text": [
            "\n",
            " Análise 3: Média de Idade por Sexo\n",
            "Sexo\n",
            "F     18.777778\n",
            "M     19.250000\n",
            "NI    19.000000\n",
            "Name: Idade, dtype: float64\n"
          ]
        }
      ]
    },
    {
      "cell_type": "code",
      "source": [
        "# Análise 4: Contagem de fumantes e não fumantes\n",
        "contagem_fumantes = df['Fuma'].value_counts()\n",
        "print(\"\\nAnálise 4: Contagem de Fumantes e Não Fumantes\")\n",
        "print(contagem_fumantes)"
      ],
      "metadata": {
        "id": "boTDJgSqBZr0",
        "colab": {
          "base_uri": "https://localhost:8080/"
        },
        "outputId": "83175633-61ae-4eba-b353-b64e72620c17"
      },
      "execution_count": null,
      "outputs": [
        {
          "output_type": "stream",
          "name": "stdout",
          "text": [
            "\n",
            "Análise 4: Contagem de Fumantes e Não Fumantes\n",
            "NAO    44\n",
            "SIM     6\n",
            "Name: Fuma, dtype: int64\n"
          ]
        }
      ]
    },
    {
      "cell_type": "code",
      "source": [
        "# Análise 5: Média de Altura por Turma\n",
        "media_altura_turma = df.groupby('Turma')['Alt'].mean()\n",
        "print(\"\\nAnálise 5: Média de Altura por Turma\")\n",
        "print(media_altura_turma)"
      ],
      "metadata": {
        "id": "vCvQvtHwBcJO",
        "colab": {
          "base_uri": "https://localhost:8080/"
        },
        "outputId": "bbc72405-f893-459d-d2f0-eef0aa42986d"
      },
      "execution_count": null,
      "outputs": [
        {
          "output_type": "stream",
          "name": "stdout",
          "text": [
            "\n",
            "Análise 5: Média de Altura por Turma\n",
            "Turma\n",
            "A    1.675769\n",
            "B    1.667917\n",
            "Name: Alt, dtype: float64\n"
          ]
        }
      ]
    },
    {
      "cell_type": "code",
      "source": [
        "# Exemplo 1: Gráfico de dispersão (scatter plot) de Idade versus Peso\n",
        "df.plot.scatter(x='Idade', y='Peso')\n",
        "plt.title('Gráfico de Dispersão de Idade versus Peso')\n",
        "plt.xlabel('Idade')\n",
        "plt.ylabel('Peso')\n",
        "plt.show()"
      ],
      "metadata": {
        "colab": {
          "base_uri": "https://localhost:8080/",
          "height": 472
        },
        "id": "bS7SkL8JHsai",
        "outputId": "b924fd54-63d1-487e-f536-fda82a2b13df"
      },
      "execution_count": null,
      "outputs": [
        {
          "output_type": "display_data",
          "data": {
            "text/plain": [
              "<Figure size 640x480 with 1 Axes>"
            ],
            "image/png": "[encoded data removed]"
          },
          "metadata": {}
        }
      ]
    },
    {
      "cell_type": "code",
      "source": [
        "# Exemplo 2: Histograma da Idade\n",
        "df['Idade'].plot.hist()\n",
        "plt.title('Histograma de Idade')\n",
        "plt.xlabel('Idade')\n",
        "plt.show()"
      ],
      "metadata": {
        "colab": {
          "base_uri": "https://localhost:8080/",
          "height": 472
        },
        "id": "Ljk_8eddHyeR",
        "outputId": "4a31cac3-00a5-4c4d-b589-86a4f16d33a8"
      },
      "execution_count": null,
      "outputs": [
        {
          "output_type": "display_data",
          "data": {
            "text/plain": [
              "<Figure size 640x480 with 1 Axes>"
            ],
            "image/png": "[encoded data removed]"
          },
          "metadata": {}
        }
      ]
    },
    {
      "cell_type": "code",
      "source": [
        "# Exemplo 3: Gráfico de barras da contagem de sexo\n",
        "contagem_sexo = df['Sexo'].value_counts()\n",
        "contagem_sexo.plot(kind='bar')\n",
        "plt.title('Contagem de Sexo')\n",
        "plt.xlabel('Sexo')\n",
        "plt.ylabel('Contagem')\n",
        "plt.show()"
      ],
      "metadata": {
        "colab": {
          "base_uri": "https://localhost:8080/",
          "height": 472
        },
        "id": "X54MfsXfH2Dj",
        "outputId": "11e9eb4d-7671-42ea-d2e4-179e1e94dc5c"
      },
      "execution_count": null,
      "outputs": [
        {
          "output_type": "display_data",
          "data": {
            "text/plain": [
              "<Figure size 640x480 with 1 Axes>"
            ],
            "image/png": "[encoded data removed]"
          },
          "metadata": {}
        }
      ]
    },
    {
      "cell_type": "code",
      "source": [
        "# Crie uma tabela de contingência para contar fumantes e não fumantes entre homens e mulheres\n",
        "contingency_table = pd.crosstab(df['Sexo'], df['Fuma'])\n",
        "\n",
        "# Crie um gráfico de probabilidade (gráfico de barras)\n",
        "contingency_table.plot(kind='bar', stacked=True)\n",
        "plt.title('Gráfico de Probabilidade de Fumantes por Gênero')\n",
        "plt.xlabel('Gênero')\n",
        "plt.ylabel('Contagem')\n",
        "plt.show()\n",
        "\n",
        "# Crie um gráfico de calor (heatmap)\n",
        "plt.figure(figsize=(8, 6))\n",
        "sns.heatmap(contingency_table, annot=True, cmap='YlGnBu', fmt='d')\n",
        "plt.title('Gráfico de Calor de Fumantes por Gênero')\n",
        "plt.xlabel('Fumantes')\n",
        "plt.ylabel('Gênero')\n",
        "plt.show()"
      ],
      "metadata": {
        "colab": {
          "base_uri": "https://localhost:8080/",
          "height": 718
        },
        "id": "_dBEfNbCMO7h",
        "outputId": "1cc5b86a-9566-4cea-f6e8-60986388873b"
      },
      "execution_count": null,
      "outputs": [
        {
          "output_type": "display_data",
          "data": {
            "text/plain": [
              "<Figure size 640x480 with 1 Axes>"
            ],
            "image/png": "[encoded data removed]"
          },
          "metadata": {}
        },
        {
          "output_type": "error",
          "ename": "NameError",
          "evalue": "ignored",
          "traceback": [
            "\u001b[0;31m---------------------------------------------------------------------------\u001b[0m",
            "\u001b[0;31mNameError\u001b[0m                                 Traceback (most recent call last)",
            "\u001b[0;32m<ipython-input-35-499288156a7e>\u001b[0m in \u001b[0;36m<cell line: 13>\u001b[0;34m()\u001b[0m\n\u001b[1;32m     11\u001b[0m \u001b[0;31m# Crie um gráfico de calor (heatmap)\u001b[0m\u001b[0;34m\u001b[0m\u001b[0;34m\u001b[0m\u001b[0m\n\u001b[1;32m     12\u001b[0m \u001b[0mplt\u001b[0m\u001b[0;34m.\u001b[0m\u001b[0mfigure\u001b[0m\u001b[0;34m(\u001b[0m\u001b[0mfigsize\u001b[0m\u001b[0;34m=\u001b[0m\u001b[0;34m(\u001b[0m\u001b[0;36m8\u001b[0m\u001b[0;34m,\u001b[0m \u001b[0;36m6\u001b[0m\u001b[0;34m)\u001b[0m\u001b[0;34m)\u001b[0m\u001b[0;34m\u001b[0m\u001b[0;34m\u001b[0m\u001b[0m\n\u001b[0;32m---> 13\u001b[0;31m \u001b[0msns\u001b[0m\u001b[0;34m.\u001b[0m\u001b[0mheatmap\u001b[0m\u001b[0;34m(\u001b[0m\u001b[0mcontingency_table\u001b[0m\u001b[0;34m,\u001b[0m \u001b[0mannot\u001b[0m\u001b[0;34m=\u001b[0m\u001b[0;32mTrue\u001b[0m\u001b[0;34m,\u001b[0m \u001b[0mcmap\u001b[0m\u001b[0;34m=\u001b[0m\u001b[0;34m'YlGnBu'\u001b[0m\u001b[0;34m,\u001b[0m \u001b[0mfmt\u001b[0m\u001b[0;34m=\u001b[0m\u001b[0;34m'd'\u001b[0m\u001b[0;34m)\u001b[0m\u001b[0;34m\u001b[0m\u001b[0;34m\u001b[0m\u001b[0m\n\u001b[0m\u001b[1;32m     14\u001b[0m \u001b[0mplt\u001b[0m\u001b[0;34m.\u001b[0m\u001b[0mtitle\u001b[0m\u001b[0;34m(\u001b[0m\u001b[0;34m'Gráfico de Calor de Fumantes por Gênero'\u001b[0m\u001b[0;34m)\u001b[0m\u001b[0;34m\u001b[0m\u001b[0;34m\u001b[0m\u001b[0m\n\u001b[1;32m     15\u001b[0m \u001b[0mplt\u001b[0m\u001b[0;34m.\u001b[0m\u001b[0mxlabel\u001b[0m\u001b[0;34m(\u001b[0m\u001b[0;34m'Fumantes'\u001b[0m\u001b[0;34m)\u001b[0m\u001b[0;34m\u001b[0m\u001b[0;34m\u001b[0m\u001b[0m\n",
            "\u001b[0;31mNameError\u001b[0m: name 'sns' is not defined"
          ]
        },
        {
          "output_type": "display_data",
          "data": {
            "text/plain": [
              "<Figure size 800x600 with 0 Axes>"
            ]
          },
          "metadata": {}
        }
      ]
    }
  ],
  "metadata": {
    "colab": {
      "provenance": [],
      "toc_visible": true,
      "include_colab_link": true
    },
    "kernelspec": {
      "display_name": "Python 3",
      "name": "python3"
    },
    "language_info": {
      "name": "python"
    }
  },
  "nbformat": 4,
  "nbformat_minor": 0
}