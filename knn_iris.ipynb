{
  "nbformat": 4,
  "nbformat_minor": 0,
  "metadata": {
    "colab": {
      "provenance": [],
      "include_colab_link": true
    },
    "kernelspec": {
      "name": "python3",
      "display_name": "Python 3"
    },
    "language_info": {
      "name": "python"
    }
  },
  "cells": [
    {
      "cell_type": "markdown",
      "metadata": {
        "id": "view-in-github",
        "colab_type": "text"
      },
      "source": [
        "<a href=\"https://colab.research.google.com/github/douglaslpo/Estatistica-Aplicada/blob/main/knn_iris.ipynb\" target=\"_parent\"><img src=\"https://colab.research.google.com/assets/colab-badge.svg\" alt=\"Open In Colab\"/></a>"
      ]
    },
    {
      "cell_type": "markdown",
      "source": [
        "1. Importar load_iris de datasets\n",
        "2. Importar train_test_split de model_selection\n",
        "3. Importar KNeighborsClassifier de neighbors"
      ],
      "metadata": {
        "id": "NiOhgE1ufYPC"
      }
    },
    {
      "cell_type": "code",
      "execution_count": 5,
      "metadata": {
        "id": "u24Ls1r3I5Mz"
      },
      "outputs": [],
      "source": [
        "from sklearn.datasets import load_iris as load\n",
        "from sklearn.model_selection import train_test_split as ttsplit\n",
        "from sklearn.neighbors import KNeighborsClassifier as KNN\n"
      ]
    },
    {
      "cell_type": "markdown",
      "source": [
        "\n",
        "\n",
        "1.   Ler a base de dados (return_X_y = True)\n",
        "2.   split dos dados (X, y, test_size, random_state)\n"
      ],
      "metadata": {
        "id": "BwXjySBXgGP_"
      }
    },
    {
      "cell_type": "code",
      "source": [
        "X, y = load(return_X_y = True)\n",
        "X_train, X_test, y_train, y_test = ttsplit(X, y, random_state=0, train_size=0.5)"
      ],
      "metadata": {
        "id": "osS6jAT8JDDX"
      },
      "execution_count": 9,
      "outputs": []
    },
    {
      "cell_type": "markdown",
      "source": [
        "\n",
        "\n",
        "1.   Criar o classificador (n_neighbors = ?)\n",
        "2.   Construir o modelo (fit)\n",
        "\n"
      ],
      "metadata": {
        "id": "rEqeaaR2gnJO"
      }
    },
    {
      "cell_type": "code",
      "source": [
        "from sklearn import neighbors\n",
        "kn = KNN(n_neighbors=5)\n",
        "kn = kn.fit(X_train, y_train)"
      ],
      "metadata": {
        "id": "UanD--_mJR4R"
      },
      "execution_count": 14,
      "outputs": []
    },
    {
      "cell_type": "markdown",
      "source": [
        "\n",
        "1.   Realizar a predição\n",
        "2.   print(\"Number of mislabeled points out of a total %d points : %d\"\n",
        "       % (X_test.shape[0], (y_test != y_pred).sum()))\n",
        "\n"
      ],
      "metadata": {
        "id": "gZ4swkBDi1cs"
      }
    },
    {
      "cell_type": "code",
      "source": [
        "\n",
        "y_pred = kn.predict(X_test)\n",
        "print(\"Number of mislabeled points out of a total %d points : %d\" % (X_test.shape[0], (y_test != y_pred).sum()))"
      ],
      "metadata": {
        "colab": {
          "base_uri": "https://localhost:8080/"
        },
        "id": "n0oNRNoSJJ6H",
        "outputId": "bd5130fb-005b-4be0-d01b-5ba41f71a382"
      },
      "execution_count": 15,
      "outputs": [
        {
          "output_type": "stream",
          "name": "stdout",
          "text": [
            "Number of mislabeled points out of a total 75 points : 3\n"
          ]
        }
      ]
    }
  ]
}