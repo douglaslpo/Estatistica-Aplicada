{
  "nbformat": 4,
  "nbformat_minor": 0,
  "metadata": {
    "colab": {
      "provenance": [],
      "include_colab_link": true
    },
    "kernelspec": {
      "name": "python3",
      "display_name": "Python 3"
    },
    "language_info": {
      "name": "python"
    }
  },
  "cells": [
    {
      "cell_type": "markdown",
      "metadata": {
        "id": "view-in-github",
        "colab_type": "text"
      },
      "source": [
        "<a href=\"https://colab.research.google.com/github/douglaslpo/Estatistica-Aplicada/blob/main/knn_iris.ipynb\" target=\"_parent\"><img src=\"https://colab.research.google.com/assets/colab-badge.svg\" alt=\"Open In Colab\"/></a>"
      ]
    },
    {
      "cell_type": "markdown",
      "source": [
        "1. Importar load_iris de datasets\n",
        "2. Importar train_test_split de model_selection\n",
        "3. Importar KNeighborsClassifier de neighbors"
      ],
      "metadata": {
        "id": "NiOhgE1ufYPC"
      }
    },
    {
      "cell_type": "code",
      "execution_count": null,
      "metadata": {
        "id": "u24Ls1r3I5Mz"
      },
      "outputs": [],
      "source": [
        "from sklearn.datasets import load_iris as load\n",
        "from sklearn.model_selection import train_test_split as split\n",
        "from sklearn.neighbors import KNeighborsClassifier as KNN\n"
      ]
    },
    {
      "cell_type": "markdown",
      "source": [
        "\n",
        "\n",
        "1.   Ler a base de dados (return_X_y = True)\n",
        "2.   split dos dados (X, y, test_size, random_state)\n"
      ],
      "metadata": {
        "id": "BwXjySBXgGP_"
      }
    },
    {
      "cell_type": "code",
      "source": [],
      "metadata": {
        "id": "osS6jAT8JDDX"
      },
      "execution_count": null,
      "outputs": []
    },
    {
      "cell_type": "markdown",
      "source": [
        "\n",
        "\n",
        "1.   Criar o classificador (n_neighbors = ?)\n",
        "2.   Construir o modelo (fit)\n",
        "\n"
      ],
      "metadata": {
        "id": "rEqeaaR2gnJO"
      }
    },
    {
      "cell_type": "code",
      "source": [],
      "metadata": {
        "id": "UanD--_mJR4R"
      },
      "execution_count": null,
      "outputs": []
    },
    {
      "cell_type": "markdown",
      "source": [
        "\n",
        "1.   Realizar a predição\n",
        "2.   print(\"Number of mislabeled points out of a total %d points : %d\"\n",
        "       % (X_test.shape[0], (y_test != y_pred).sum()))\n",
        "\n"
      ],
      "metadata": {
        "id": "gZ4swkBDi1cs"
      }
    },
    {
      "cell_type": "code",
      "source": [],
      "metadata": {
        "colab": {
          "base_uri": "https://localhost:8080/"
        },
        "id": "n0oNRNoSJJ6H",
        "outputId": "aa8a9926-442d-4423-ae4e-c1b57c2f5384"
      },
      "execution_count": null,
      "outputs": [
        {
          "output_type": "stream",
          "name": "stdout",
          "text": [
            "Number of mislabeled points out of a total 75 points : 7\n"
          ]
        }
      ]
    }
  ]
}